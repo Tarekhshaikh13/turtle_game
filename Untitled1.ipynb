{
 "cells": [
  {
   "cell_type": "code",
   "execution_count": 1,
   "metadata": {},
   "outputs": [],
   "source": [
    "import turtle\n",
    "import random\n",
    "import time"
   ]
  },
  {
   "cell_type": "code",
   "execution_count": 2,
   "metadata": {},
   "outputs": [],
   "source": [
    "screen = turtle.Screen()"
   ]
  },
  {
   "cell_type": "code",
   "execution_count": 3,
   "metadata": {},
   "outputs": [],
   "source": [
    "p1 = turtle.Turtle()"
   ]
  },
  {
   "cell_type": "code",
   "execution_count": 4,
   "metadata": {},
   "outputs": [],
   "source": [
    "p1.color('blue')"
   ]
  },
  {
   "cell_type": "code",
   "execution_count": 5,
   "metadata": {},
   "outputs": [],
   "source": [
    "#p1.forward(100)"
   ]
  },
  {
   "cell_type": "code",
   "execution_count": 6,
   "metadata": {},
   "outputs": [],
   "source": [
    "p2 = p1.clone()\n"
   ]
  },
  {
   "cell_type": "code",
   "execution_count": 7,
   "metadata": {},
   "outputs": [],
   "source": [
    "p2.color('red')"
   ]
  },
  {
   "cell_type": "code",
   "execution_count": 8,
   "metadata": {},
   "outputs": [],
   "source": [
    "p1.penup()\n",
    "p2.penup()"
   ]
  },
  {
   "cell_type": "code",
   "execution_count": 9,
   "metadata": {},
   "outputs": [],
   "source": [
    "p1.goto(-300,200)"
   ]
  },
  {
   "cell_type": "code",
   "execution_count": 10,
   "metadata": {},
   "outputs": [],
   "source": [
    "p2.goto(-300,-200)"
   ]
  },
  {
   "cell_type": "code",
   "execution_count": 11,
   "metadata": {
    "scrolled": true
   },
   "outputs": [],
   "source": [
    "refree = p1.clone()\n",
    "refree.color('black')"
   ]
  },
  {
   "cell_type": "code",
   "execution_count": 12,
   "metadata": {},
   "outputs": [],
   "source": [
    "refree.penup()\n",
    "refree.goto(300,250)\n"
   ]
  },
  {
   "cell_type": "code",
   "execution_count": 13,
   "metadata": {},
   "outputs": [],
   "source": [
    "refree.right(90)\n",
    "refree.pendown()\n",
    "refree.forward(250)\n",
    "refree.right(90)\n",
    "refree.write('FINISH')\n",
    "refree.left(90)\n",
    "refree.forward(250)\n",
    "refree.penup()"
   ]
  },
  {
   "cell_type": "raw",
   "metadata": {},
   "source": []
  },
  {
   "cell_type": "code",
   "execution_count": 14,
   "metadata": {},
   "outputs": [],
   "source": [
    "die = [1,2,3,4,5,6]\n",
    "for i in range (30):\n",
    "    if p1.pos()>=(300,200):\n",
    "        refree.goto(-10,0)\n",
    "        rrefree.write(\" Player 1 wins!! \\U0001f600\",font = 48)\n",
    "        refree.hideturtle()\n",
    "        break\n",
    "    elif p2.pos()>=(300,-200):\n",
    "        refree.goto(-10,0)\n",
    "        refree.hideturtle()\n",
    "        refree.write(\" Player 2 wins!! \\U0001f600\",font = 48)\n",
    "        break\n",
    "    elif True:\n",
    "        move = random.choice(die)\n",
    "        move2 = random.choice(die)\n",
    "        \n",
    "        p1.forward(move*30)\n",
    "        time.sleep(1)\n",
    "        if p1.pos()>=(300,200):\n",
    "            refree.goto(-10,0)\n",
    "            refree.write(\" Player 1 wins!! \\U0001f600\",font = 48)\n",
    "            refree.hideturtle()\n",
    "            break\n",
    "        \n",
    "        p2.forward(move2*30)\n",
    "        time.sleep(1)\n",
    "        if p2.pos()>=(300,-200):\n",
    "            refree.goto(-10,0)\n",
    "            refree.hideturtle()\n",
    "            refree.write(\" Player 2 wins!! \\U0001f600\",font = 48)\n",
    "            break\n",
    "    else:\n",
    "        continue\n",
    "\n",
    "\n",
    "        "
   ]
  },
  {
   "cell_type": "code",
   "execution_count": 15,
   "metadata": {},
   "outputs": [],
   "source": [
    "turtle.done()"
   ]
  },
  {
   "cell_type": "code",
   "execution_count": null,
   "metadata": {},
   "outputs": [],
   "source": []
  }
 ],
 "metadata": {
  "kernelspec": {
   "display_name": "Python 3",
   "language": "python",
   "name": "python3"
  },
  "language_info": {
   "codemirror_mode": {
    "name": "ipython",
    "version": 3
   },
   "file_extension": ".py",
   "mimetype": "text/x-python",
   "name": "python",
   "nbconvert_exporter": "python",
   "pygments_lexer": "ipython3",
   "version": "3.8.5"
  }
 },
 "nbformat": 4,
 "nbformat_minor": 4
}
